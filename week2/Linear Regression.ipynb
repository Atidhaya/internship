{
 "cells": [
  {
   "cell_type": "code",
   "execution_count": 58,
   "metadata": {},
   "outputs": [],
   "source": [
    "%matplotlib inline\n",
    "import random\n",
    "from matplotlib import pyplot as plt\n",
    "import numpy "
   ]
  },
  {
   "cell_type": "code",
   "execution_count": 208,
   "metadata": {},
   "outputs": [],
   "source": [
    "###taken from homework 1, add the first default x_0 = 1 \n",
    "\n",
    "def genData(n):  \n",
    "    randPointx1 = random.uniform (-1, 1)\n",
    "    randPointy1 = random.uniform (-1, 1)\n",
    "    randPointx2 = random.uniform (-1, 1)\n",
    "    randPointy2 = random.uniform (-1, 1)\n",
    "    tempPoints = []\n",
    "    tempTarget = [[randPointx1,randPointy1],[randPointx2,randPointy2]]\n",
    "    for i in range(n):\n",
    "        newx = random.uniform (-1, 1)\n",
    "        newy = random.uniform (-1, 1)\n",
    "        tempPoints.append([ 1,newx , newy, hw1TargetFunction(randPointx1,randPointy1,randPointx2,randPointy2,newx,newy)])\n",
    "    return tempPoints,tempTarget\n",
    "\n",
    "def aboveOrBelow(x1,y1,x2,y2,px,py):\n",
    "    if ((x2-x1)*(py-y1) - (y2-y1)*(px-x1)) >= 0 :\n",
    "        return 1\n",
    "    return -1\n",
    "\n",
    "def plotGraph(data,target,w):\n",
    "    for i in range(len(data)):\n",
    "        if(data[i][2] >= 0):\n",
    "            plt.plot(data[i][0],data[i][1],'ro')\n",
    "        else:\n",
    "            plt.plot(data[i][0],data[i][1],'bo')\n",
    "    slope = (target[1][1]-target[0][1]) / (target[1][0]-target[0][0])\n",
    "    intercept = target[0][1] - slope*target[0][0]\n",
    "    arr = np.array([-1,1])\n",
    "    plt.plot(arr, arr*slope + intercept, '--g') #our original unknown f(x)\n",
    "    #https://stats.stackexchange.com/questions/169343/how-to-plot-the-or-function-along-with-the-decision-boundary-of-a-perceptron\n",
    "    x = -w[0] / w[1]\n",
    "    y = (-w[0] / w[2])  or 0.00000000000000001\n",
    "#     print(-w[0],w[1])\n",
    "    print(y)\n",
    "    d = y\n",
    "    c = -y / x #throw error if -y = 0\n",
    "    plt.plot(arr, c*arr + d , 'r' )\n",
    "\n",
    "\n",
    "###weight in linear regression is pseudoinverseX * y\n",
    "def regression(points):\n",
    "    data = []\n",
    "    target = []\n",
    "    for p in points:\n",
    "        data.append(p[:len(p)-1])\n",
    "        target.append(p[len(p)-1])\n",
    "    ###We do this after because numpy array data structure is not the same usual list we have.\n",
    "    ###everytime we append, all the data in the existing array is copied into a new one.\n",
    "    data = numpy.array(data)\n",
    "    target = numpy.array(target)\n",
    "    pseudoInverse = numpy.linalg.pinv(data)\n",
    "    return numpy.dot(pseudoInverse, target) #the weight\n",
    "\n",
    "def sign(result):\n",
    "    #if the result is >= 0 meaning it says that it guesses this point to be above the line, 0 otherwise. \n",
    "    if result >= 0:\n",
    "        return 1\n",
    "    return -1\n",
    "\n",
    "def simulation(iteration,n,out):\n",
    "    ein,eout = [],0\n",
    "    for i in range(iteration):\n",
    "        tempPoints,tempTarget = genData(n)\n",
    "        weight = regression(tempPoints)\n",
    "        error = 0\n",
    "        for p in tempPoints:\n",
    "#             print('guessed :' , sign(numpy.dot(weight,p[:len(p)-1])), ' real ' , p[len(p)-1])\n",
    "            if(sign(numpy.dot(weight,p[:len(p)-1]))) != p[len(p)-1]:\n",
    "                error += 1\n",
    "#         print(error/float(len(tempPoints)))\n",
    "        ein.append(error/float(len(tempPoints)))\n",
    "    OutSam,outT = genData(out)\n",
    "    weight = regression(OutSam)\n",
    "    for p in OutSam:\n",
    "        if(sign(numpy.dot(weight,p[:len(p)-1]))) != p[len(p)-1]:\n",
    "                eout += 1\n",
    "        \n",
    "    return  numpy.mean(numpy.array(ein)),eout/float(iteration)\n"
   ]
  },
  {
   "cell_type": "code",
   "execution_count": 209,
   "metadata": {},
   "outputs": [
    {
     "name": "stdout",
     "output_type": "stream",
     "text": [
      "(0.04011, 0.037)\n"
     ]
    }
   ],
   "source": [
    "print(simulation(1000,100,1000))"
   ]
  },
  {
   "cell_type": "code",
   "execution_count": 98,
   "metadata": {},
   "outputs": [],
   "source": []
  },
  {
   "cell_type": "code",
   "execution_count": 103,
   "metadata": {},
   "outputs": [
    {
     "name": "stdout",
     "output_type": "stream",
     "text": [
      "0.03888000000000001\n"
     ]
    }
   ],
   "source": []
  },
  {
   "cell_type": "code",
   "execution_count": null,
   "metadata": {},
   "outputs": [],
   "source": []
  }
 ],
 "metadata": {
  "kernelspec": {
   "display_name": "Python 3",
   "language": "python",
   "name": "python3"
  },
  "language_info": {
   "codemirror_mode": {
    "name": "ipython",
    "version": 3
   },
   "file_extension": ".py",
   "mimetype": "text/x-python",
   "name": "python",
   "nbconvert_exporter": "python",
   "pygments_lexer": "ipython3",
   "version": "3.6.5"
  }
 },
 "nbformat": 4,
 "nbformat_minor": 2
}
