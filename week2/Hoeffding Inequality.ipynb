{
 "cells": [
  {
   "cell_type": "code",
   "execution_count": 29,
   "metadata": {},
   "outputs": [],
   "source": [
    "%matplotlib inline\n",
    "import random\n",
    "from matplotlib import pyplot as plt\n",
    "import numpy as py"
   ]
  },
  {
   "cell_type": "code",
   "execution_count": 51,
   "metadata": {},
   "outputs": [
    {
     "name": "stdout",
     "output_type": "stream",
     "text": [
      "0.5 0.6 0.0\n",
      "(0.55, 0.43999999999999995, 0.07999999999999999)\n"
     ]
    }
   ],
   "source": [
    "def cointoss(n):\n",
    "    h = 0\n",
    "    for i in range(n):\n",
    "        ran = random.uniform(0,1)\n",
    "        if(ran > 0.5):\n",
    "            h += 1\n",
    "    return float(h/n) \n",
    "\n",
    "def experiment(n):\n",
    "    c1,crand,cmin = 0,0,1\n",
    "    allCoins = []\n",
    "    for i in range(n):\n",
    "        ranFlip = cointoss(10)\n",
    "        if(i==0):\n",
    "            c1 = cointoss(10)\n",
    "            allCoins += [c1]\n",
    "        else:\n",
    "            if(ranFlip < cmin):\n",
    "                cmin = ranFlip\n",
    "            allCoins += [ranFlip]\n",
    "    ranPos = random.randint(0,n-1)\n",
    "    crand = allCoins[ranPos]\n",
    "    \n",
    "    return c1,crand,cmin\n",
    "\n",
    "def simulation(n,t):\n",
    "    v1,vrand,vmin = 0,0,0\n",
    "    sv1,svrand,svmin = 0,0,0\n",
    "    for i in range(n):\n",
    "        c1,crand,cmin = experiment(t)\n",
    "#         print(cmin)\n",
    "        v1 += c1\n",
    "        vrand += crand\n",
    "        vmin += cmin\n",
    "        sv1 = c1\n",
    "        svrand = crand\n",
    "        svmin = cmin\n",
    "    print(sv1,svrand,svmin)\n",
    "    return v1/n,vrand/n,vmin/n\n",
    "\n",
    "print(simulation(10,1000))"
   ]
  },
  {
   "cell_type": "code",
   "execution_count": 50,
   "metadata": {},
   "outputs": [
    {
     "name": "stdout",
     "output_type": "stream",
     "text": [
      "2.065432241377387\n"
     ]
    }
   ],
   "source": []
  },
  {
   "cell_type": "code",
   "execution_count": null,
   "metadata": {},
   "outputs": [],
   "source": []
  }
 ],
 "metadata": {
  "kernelspec": {
   "display_name": "Python 3",
   "language": "python",
   "name": "python3"
  },
  "language_info": {
   "codemirror_mode": {
    "name": "ipython",
    "version": 3
   },
   "file_extension": ".py",
   "mimetype": "text/x-python",
   "name": "python",
   "nbconvert_exporter": "python",
   "pygments_lexer": "ipython3",
   "version": "3.6.5"
  }
 },
 "nbformat": 4,
 "nbformat_minor": 2
}
