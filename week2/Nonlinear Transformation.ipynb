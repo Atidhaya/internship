{
 "cells": [
  {
   "cell_type": "code",
   "execution_count": 79,
   "metadata": {},
   "outputs": [],
   "source": [
    "%matplotlib inline\n",
    "import random\n",
    "from matplotlib import pyplot as plt\n",
    "import numpy as py"
   ]
  },
  {
   "cell_type": "code",
   "execution_count": 95,
   "metadata": {},
   "outputs": [],
   "source": [
    "## target function \n",
    "def f(x1,x2):\n",
    "    return sign(x1**2 + x2**2 - 0.6)\n",
    "\n",
    "def sign(val):\n",
    "    if val >= 0:\n",
    "        return 1\n",
    "    return -1\n",
    "\n",
    "## flip the sign of output\n",
    "def flip(p):\n",
    "    if p == -1:\n",
    "        return 1\n",
    "    return -1\n",
    "\n",
    "\n",
    "##n is the amount of noise, points are data\n",
    "def makeNoise(n,points):\n",
    "    for i in range(n):\n",
    "        rand = random.randint(0,len(points)-1)\n",
    "        points[rand][len(points[0])-1] = flip(points[rand][len(points[0])-1])\n",
    "    return points\n",
    "\n",
    "def genPoints(n):\n",
    "#     randPointx1 = random.uniform (-1, 1)\n",
    "#     randPointy1 = random.uniform (-1, 1)\n",
    "#     randPointx2 = random.uniform (-1, 1)\n",
    "#     randPointy2 = random.uniform (-1, 1)\n",
    "    tempPoints = []\n",
    "#     tempTarget = [[randPointx1,randPointy1],[randPointx2,randPointy2]]\n",
    "    for i in range(n):\n",
    "        newx = random.uniform (-1, 1)\n",
    "        newy = random.uniform (-1, 1)\n",
    "        tempPoints.append([ 1,newx , newy, f(newx,newy)])\n",
    "    return tempPoints\n",
    "\n",
    "def regression(points):\n",
    "    data = []\n",
    "    target = []\n",
    "    for p in points:\n",
    "        data.append(p[:len(p)-1])\n",
    "        target.append(p[len(p)-1])\n",
    "    ###We do this after because numpy array data structure is not the same usual list we have.\n",
    "    ###everytime we append, all the data in the existing array is copied into a new one.\n",
    "    data = py.array(data)\n",
    "    target = py.array(target)\n",
    "    pseudoInverse = py.linalg.pinv(data)\n",
    "    return py.dot(pseudoInverse, target) #the weight\n",
    "\n",
    "def simulation(iteration,n,out,noise):\n",
    "    ein,eout = 0,0\n",
    "    for i in range(iteration):\n",
    "        tempPoints = genPoints(n)\n",
    "        makeNoise(noise,points)\n",
    "        weight = regression(tempPoints)\n",
    "        error = 0\n",
    "        for p in tempPoints:\n",
    "            if(sign(py.dot(weight,p[:len(p)-1]))) != p[len(p)-1]:\n",
    "                error += 1\n",
    "        ein += error/float(len(tempPoints))\n",
    "    OutSam = genPoints(out)\n",
    "    weight = regression(OutSam)\n",
    "    for p in OutSam:\n",
    "        if(sign(py.dot(weight,p[:len(p)-1]))) != p[len(p)-1]:\n",
    "                eout += 1\n",
    "    return  ein/float(iteration),eout/float(out)\n",
    "\n",
    "def nonLinearPoints(n):\n",
    "    tempPoints = []\n",
    "#     tempTarget = [[randPointx1,randPointy1],[randPointx2,randPointy2]]\n",
    "    for i in range(n):\n",
    "        newx = random.uniform (-1, 1)\n",
    "        newy = random.uniform (-1, 1)\n",
    "        tempPoints.append([ 1, newx , newy, newx*newy, newx**2 , newy**2 ,f(newx,newy)])\n",
    "    return tempPoints\n",
    "\n",
    "def NonLSimulation(iteration,n,out,noise,hypo):\n",
    "    ein,eout = 0,0\n",
    "    prevweight = 0\n",
    "    for i in range(iteration):\n",
    "        tempPoints = nonLinearPoints(n)\n",
    "        makeNoise(noise,points)\n",
    "        weight = regression(tempPoints)\n",
    "        prevweight = weight\n",
    "        error = 0\n",
    "        for p in tempPoints:\n",
    "            if(sign(py.dot(weight,p[:len(p)-1]))) != sign(py.dot(hypo,p[:len(p)-1])):\n",
    "                error += 1\n",
    "        ein += error/float(len(tempPoints))\n",
    "    for i in range(iteration):\n",
    "        error = 0\n",
    "        OutSam = nonLinearPoints(out)\n",
    "        makeNoise(noise,OutSam)\n",
    "        for p in OutSam:\n",
    "            if(sign(py.dot(hypo,p[:len(p)-1]))) != p[len(p)-1]:\n",
    "                error += 1\n",
    "        eout += error/float(len(OutSam))\n",
    "    return  ein/float(iteration),eout/float(iteration)\n",
    "\n",
    "def simulation(iteration,n,out,noise):\n",
    "    ein,eout = 0,0\n",
    "    prevweight = 0 \n",
    "    for i in range(iteration):\n",
    "        tempPoints = genPoints(n)\n",
    "        makeNoise(noise,points)\n",
    "        weight = regression(tempPoints)\n",
    "        error = 0\n",
    "        prevweight = weight\n",
    "        for p in tempPoints:\n",
    "            if(sign(py.dot(weight,p[:len(p)-1]))) != p[len(p)-1]:\n",
    "                error += 1\n",
    "        ein += error/float(len(tempPoints))\n",
    "    OutSam = genPoints(out)\n",
    "    for p in OutSam:\n",
    "        if(sign(py.dot(prevweight,p[:len(p)-1]))) != p[len(p)-1]:\n",
    "                eout += 1\n",
    "    return  ein/float(iteration),eout/float(out)"
   ]
  },
  {
   "cell_type": "code",
   "execution_count": 76,
   "metadata": {},
   "outputs": [
    {
     "name": "stdout",
     "output_type": "stream",
     "text": [
      "ein :  0.5119039999999999 , eout :  0.49\n"
     ]
    }
   ],
   "source": [
    "ein,eout = simulation(1000,1000,1000,100)\n",
    "print('ein : ', ein, ', eout : ', eout)"
   ]
  },
  {
   "cell_type": "code",
   "execution_count": 92,
   "metadata": {},
   "outputs": [],
   "source": [
    "a = [-1,-0.05,0.08,0.13,1.5,1.5]\n",
    "b = [-1,-0.05,0.08,0.13,1.5,15]\n",
    "c = [-1,-0.05,0.08,0.13,15,1.5]\n",
    "d = [-1,-1.5,0.08,0.13,0.05,0.05]\n",
    "e = [-1,-0.05,0.08,1.5,0.15,0.15]"
   ]
  },
  {
   "cell_type": "code",
   "execution_count": 96,
   "metadata": {},
   "outputs": [
    {
     "name": "stdout",
     "output_type": "stream",
     "text": [
      "ein :  0.11000000000000001 , eout :  0.13\n"
     ]
    }
   ],
   "source": [
    "ein,eout = NonLSimulation(10,10,10,1,a)\n",
    "print('ein : ', ein, ', eout : ', eout)"
   ]
  },
  {
   "cell_type": "code",
   "execution_count": 97,
   "metadata": {},
   "outputs": [
    {
     "name": "stdout",
     "output_type": "stream",
     "text": [
      "ein :  0.033352999999999945 , eout :  0.13416500000000003\n"
     ]
    }
   ],
   "source": [
    "ein,eout = NonLSimulation(1000,1000,1000,100,a)\n",
    "print('ein : ', ein, ', eout : ', eout)"
   ]
  },
  {
   "cell_type": "code",
   "execution_count": 98,
   "metadata": {},
   "outputs": [
    {
     "name": "stdout",
     "output_type": "stream",
     "text": [
      "ein :  0.3352410000000002 , eout :  0.3446380000000006\n"
     ]
    }
   ],
   "source": [
    "ein,eout = NonLSimulation(1000,1000,1000,100,b)\n",
    "print('ein : ', ein, ', eout : ', eout)"
   ]
  },
  {
   "cell_type": "code",
   "execution_count": 99,
   "metadata": {},
   "outputs": [
    {
     "name": "stdout",
     "output_type": "stream",
     "text": [
      "ein :  0.3359129999999999 , eout :  0.34531200000000045\n"
     ]
    }
   ],
   "source": [
    "ein,eout = NonLSimulation(1000,1000,1000,100,c)\n",
    "print('ein : ', ein, ', eout : ', eout)"
   ]
  },
  {
   "cell_type": "code",
   "execution_count": 100,
   "metadata": {},
   "outputs": [
    {
     "name": "stdout",
     "output_type": "stream",
     "text": [
      "ein :  0.36810600000000004 , eout :  0.40480599999999944\n"
     ]
    }
   ],
   "source": [
    "ein,eout = NonLSimulation(1000,1000,1000,100,d)\n",
    "print('ein : ', ein, ', eout : ', eout)"
   ]
  },
  {
   "cell_type": "code",
   "execution_count": 101,
   "metadata": {},
   "outputs": [
    {
     "name": "stdout",
     "output_type": "stream",
     "text": [
      "ein :  0.43975000000000014 , eout :  0.47413600000000033\n"
     ]
    }
   ],
   "source": [
    "ein,eout = NonLSimulation(1000,1000,1000,100,e)\n",
    "print('ein : ', ein, ', eout : ', eout)"
   ]
  },
  {
   "cell_type": "code",
   "execution_count": null,
   "metadata": {},
   "outputs": [],
   "source": []
  }
 ],
 "metadata": {
  "kernelspec": {
   "display_name": "Python 3",
   "language": "python",
   "name": "python3"
  },
  "language_info": {
   "codemirror_mode": {
    "name": "ipython",
    "version": 3
   },
   "file_extension": ".py",
   "mimetype": "text/x-python",
   "name": "python",
   "nbconvert_exporter": "python",
   "pygments_lexer": "ipython3",
   "version": "3.6.5"
  }
 },
 "nbformat": 4,
 "nbformat_minor": 2
}
